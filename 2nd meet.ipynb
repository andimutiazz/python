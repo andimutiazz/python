{
 "cells": [
  {
   "cell_type": "code",
   "execution_count": 2,
   "id": "8fdf357e-8fa0-4079-8108-ffc887423c01",
   "metadata": {},
   "outputs": [],
   "source": [
    "my_favorite_color='red'"
   ]
  },
  {
   "cell_type": "code",
   "execution_count": 5,
   "id": "5771cf7e-d337-4d7a-8159-e8304fdd3002",
   "metadata": {},
   "outputs": [
    {
     "data": {
      "text/plain": [
       "'red'"
      ]
     },
     "execution_count": 5,
     "metadata": {},
     "output_type": "execute_result"
    }
   ],
   "source": [
    "my_favorite_color"
   ]
  },
  {
   "cell_type": "code",
   "execution_count": 6,
   "id": "8d711562-940d-4142-b0d6-16c77261df44",
   "metadata": {},
   "outputs": [],
   "source": [
    "grape, apple, banana= 'purple', 'red', 'banana'"
   ]
  },
  {
   "cell_type": "code",
   "execution_count": 7,
   "id": "6fd417af-64cb-4aed-b0fb-78c02e3636c5",
   "metadata": {},
   "outputs": [
    {
     "data": {
      "text/plain": [
       "'purple'"
      ]
     },
     "execution_count": 7,
     "metadata": {},
     "output_type": "execute_result"
    }
   ],
   "source": [
    "grape"
   ]
  },
  {
   "cell_type": "code",
   "execution_count": 9,
   "id": "0eef1789-fded-4b3a-8cae-85d279993ecb",
   "metadata": {},
   "outputs": [],
   "source": [
    "counter=10\n",
    "test=20"
   ]
  },
  {
   "cell_type": "code",
   "execution_count": 10,
   "id": "ad1c452a-4389-4e19-b86b-10b58eda4047",
   "metadata": {},
   "outputs": [
    {
     "data": {
      "text/plain": [
       "10"
      ]
     },
     "execution_count": 10,
     "metadata": {},
     "output_type": "execute_result"
    }
   ],
   "source": [
    "counter"
   ]
  },
  {
   "cell_type": "code",
   "execution_count": 11,
   "id": "5270a90f-374f-41ec-82bd-af9caa1576b8",
   "metadata": {},
   "outputs": [],
   "source": [
    "counter=counter+test"
   ]
  },
  {
   "cell_type": "code",
   "execution_count": 12,
   "id": "4fd30a9b-a1d3-4360-bc29-548a2576a2e7",
   "metadata": {},
   "outputs": [
    {
     "data": {
      "text/plain": [
       "30"
      ]
     },
     "execution_count": 12,
     "metadata": {},
     "output_type": "execute_result"
    }
   ],
   "source": [
    "counter"
   ]
  },
  {
   "cell_type": "code",
   "execution_count": 14,
   "id": "f0003916-cfc2-453e-94fd-946ac8dcc79a",
   "metadata": {},
   "outputs": [],
   "source": [
    "counter+=4"
   ]
  },
  {
   "cell_type": "code",
   "execution_count": 15,
   "id": "58a69813-7c40-49be-9fae-2ba3b0e29ce6",
   "metadata": {},
   "outputs": [
    {
     "data": {
      "text/plain": [
       "38"
      ]
     },
     "execution_count": 15,
     "metadata": {},
     "output_type": "execute_result"
    }
   ],
   "source": [
    "counter"
   ]
  },
  {
   "cell_type": "code",
   "execution_count": 16,
   "id": "d3ee7399-a1a0-43a2-9d9c-83ad7edf2cc3",
   "metadata": {},
   "outputs": [
    {
     "data": {
      "text/plain": [
       "42"
      ]
     },
     "execution_count": 16,
     "metadata": {},
     "output_type": "execute_result"
    }
   ],
   "source": [
    "counter+4"
   ]
  },
  {
   "cell_type": "code",
   "execution_count": 17,
   "id": "2c0ccc41-25eb-4ae3-90f1-a43082f8314c",
   "metadata": {},
   "outputs": [
    {
     "data": {
      "text/plain": [
       "39"
      ]
     },
     "execution_count": 17,
     "metadata": {},
     "output_type": "execute_result"
    }
   ],
   "source": [
    "34+5"
   ]
  },
  {
   "cell_type": "code",
   "execution_count": 18,
   "id": "07bdfc42-2ecb-45a0-9768-f4705efa5abf",
   "metadata": {},
   "outputs": [],
   "source": [
    "_3_musketers=5"
   ]
  },
  {
   "cell_type": "code",
   "execution_count": 19,
   "id": "8c8fb4c2-60dd-482d-abce-21df3aa12194",
   "metadata": {},
   "outputs": [
    {
     "data": {
      "text/plain": [
       "5"
      ]
     },
     "execution_count": 19,
     "metadata": {},
     "output_type": "execute_result"
    }
   ],
   "source": [
    "_3_musketers"
   ]
  },
  {
   "cell_type": "code",
   "execution_count": 20,
   "id": "0f69f687-a161-4578-991f-3a10dc685e48",
   "metadata": {},
   "outputs": [],
   "source": [
    "current_year=2022"
   ]
  },
  {
   "cell_type": "code",
   "execution_count": 21,
   "id": "53b4ae71-380c-447d-89b7-2158c4c6121f",
   "metadata": {},
   "outputs": [
    {
     "data": {
      "text/plain": [
       "int"
      ]
     },
     "execution_count": 21,
     "metadata": {},
     "output_type": "execute_result"
    }
   ],
   "source": [
    "type(current_year)"
   ]
  },
  {
   "cell_type": "code",
   "execution_count": 22,
   "id": "b3e31c36-7160-4661-b1df-20c5ca9a41ff",
   "metadata": {},
   "outputs": [
    {
     "data": {
      "text/plain": [
       "0.01"
      ]
     },
     "execution_count": 22,
     "metadata": {},
     "output_type": "execute_result"
    }
   ],
   "source": [
    "1e-2"
   ]
  },
  {
   "cell_type": "code",
   "execution_count": 23,
   "id": "6746d2cf-3cde-4415-9741-81a2d729e1e3",
   "metadata": {},
   "outputs": [],
   "source": [
    "eggs=39"
   ]
  },
  {
   "cell_type": "code",
   "execution_count": 24,
   "id": "dcfd099b-d521-4fa0-85d8-20d2729eb8b8",
   "metadata": {},
   "outputs": [
    {
     "data": {
      "text/plain": [
       "int"
      ]
     },
     "execution_count": 24,
     "metadata": {},
     "output_type": "execute_result"
    }
   ],
   "source": [
    "type(eggs)"
   ]
  },
  {
   "cell_type": "code",
   "execution_count": 25,
   "id": "2e0a670c-b71c-4f70-b90f-50dd9952dc3f",
   "metadata": {},
   "outputs": [],
   "source": [
    "tables=5"
   ]
  },
  {
   "cell_type": "code",
   "execution_count": 27,
   "id": "d741ea51-5fbc-4b46-9c40-91ae32c5669e",
   "metadata": {},
   "outputs": [
    {
     "data": {
      "text/plain": [
       "int"
      ]
     },
     "execution_count": 27,
     "metadata": {},
     "output_type": "execute_result"
    }
   ],
   "source": [
    "type(tables)"
   ]
  },
  {
   "cell_type": "code",
   "execution_count": 28,
   "id": "4f6ca290-aef2-4ea6-ad4b-980739eccee0",
   "metadata": {},
   "outputs": [],
   "source": [
    "books=78"
   ]
  },
  {
   "cell_type": "code",
   "execution_count": 29,
   "id": "812e4405-dcbf-4977-86ca-558adea963fc",
   "metadata": {},
   "outputs": [
    {
     "data": {
      "text/plain": [
       "int"
      ]
     },
     "execution_count": 29,
     "metadata": {},
     "output_type": "execute_result"
    }
   ],
   "source": [
    "type(books)"
   ]
  },
  {
   "cell_type": "code",
   "execution_count": 30,
   "id": "2a1a9ef8-079d-4032-bed0-e0aa7d810dc8",
   "metadata": {},
   "outputs": [],
   "source": [
    "goose=869"
   ]
  },
  {
   "cell_type": "code",
   "execution_count": 31,
   "id": "1abc73bc-739e-4df8-914b-7e6fe7411ac4",
   "metadata": {},
   "outputs": [
    {
     "data": {
      "text/plain": [
       "int"
      ]
     },
     "execution_count": 31,
     "metadata": {},
     "output_type": "execute_result"
    }
   ],
   "source": [
    "type(goose)"
   ]
  },
  {
   "cell_type": "code",
   "execution_count": 32,
   "id": "a385c23d-14e1-41e4-aa0b-3b28674912de",
   "metadata": {},
   "outputs": [],
   "source": [
    "length=67.5"
   ]
  },
  {
   "cell_type": "code",
   "execution_count": 33,
   "id": "4fc9878c-ed9d-4e37-aa65-52d15f87a46b",
   "metadata": {},
   "outputs": [
    {
     "data": {
      "text/plain": [
       "float"
      ]
     },
     "execution_count": 33,
     "metadata": {},
     "output_type": "execute_result"
    }
   ],
   "source": [
    "type(length)"
   ]
  },
  {
   "cell_type": "code",
   "execution_count": 34,
   "id": "ea29ecd6-2f5c-4a63-a290-5b697960d47c",
   "metadata": {},
   "outputs": [],
   "source": [
    "height=79.45"
   ]
  },
  {
   "cell_type": "code",
   "execution_count": 35,
   "id": "50cf2640-2541-493a-86fa-6995685d4acd",
   "metadata": {},
   "outputs": [
    {
     "data": {
      "text/plain": [
       "float"
      ]
     },
     "execution_count": 35,
     "metadata": {},
     "output_type": "execute_result"
    }
   ],
   "source": [
    "type(height)"
   ]
  },
  {
   "cell_type": "code",
   "execution_count": 36,
   "id": "6bd397e3-8f6b-4d83-be97-7ec7b3ff59e2",
   "metadata": {},
   "outputs": [],
   "source": [
    "width=84572.79"
   ]
  },
  {
   "cell_type": "code",
   "execution_count": 37,
   "id": "b340dd38-6f1f-4f4f-bf10-dbae61939011",
   "metadata": {},
   "outputs": [
    {
     "data": {
      "text/plain": [
       "float"
      ]
     },
     "execution_count": 37,
     "metadata": {},
     "output_type": "execute_result"
    }
   ],
   "source": [
    "type(width)"
   ]
  },
  {
   "cell_type": "code",
   "execution_count": 38,
   "id": "37ebf915-9692-4b8a-acc8-98a1db1255d8",
   "metadata": {},
   "outputs": [],
   "source": [
    "time=43.5"
   ]
  },
  {
   "cell_type": "code",
   "execution_count": 39,
   "id": "e35b2ac0-feab-463f-b46f-6f06b7548027",
   "metadata": {},
   "outputs": [
    {
     "data": {
      "text/plain": [
       "float"
      ]
     },
     "execution_count": 39,
     "metadata": {},
     "output_type": "execute_result"
    }
   ],
   "source": [
    "type(time)"
   ]
  },
  {
   "cell_type": "code",
   "execution_count": 40,
   "id": "9be9fd05-cb82-43d1-8d20-b06c9ab471d7",
   "metadata": {},
   "outputs": [],
   "source": [
    "length=87982.8"
   ]
  },
  {
   "cell_type": "code",
   "execution_count": 41,
   "id": "864b2cff-f2f6-4575-a364-f3b7bb624aa0",
   "metadata": {},
   "outputs": [
    {
     "data": {
      "text/plain": [
       "float"
      ]
     },
     "execution_count": 41,
     "metadata": {},
     "output_type": "execute_result"
    }
   ],
   "source": [
    "type(length)"
   ]
  },
  {
   "cell_type": "code",
   "execution_count": 42,
   "id": "9ef2d0fb-462d-4a89-b3ce-607c7aa92582",
   "metadata": {},
   "outputs": [
    {
     "data": {
      "text/plain": [
       "869.0"
      ]
     },
     "execution_count": 42,
     "metadata": {},
     "output_type": "execute_result"
    }
   ],
   "source": [
    "float(goose)"
   ]
  },
  {
   "cell_type": "code",
   "execution_count": 45,
   "id": "ca81023b-2006-44df-896c-c0eb0deabf52",
   "metadata": {},
   "outputs": [
    {
     "data": {
      "text/plain": [
       "False"
      ]
     },
     "execution_count": 45,
     "metadata": {},
     "output_type": "execute_result"
    }
   ],
   "source": [
    "length==5"
   ]
  },
  {
   "cell_type": "code",
   "execution_count": 46,
   "id": "8c3445c2-807b-41ff-82e9-f3dfee201842",
   "metadata": {},
   "outputs": [
    {
     "data": {
      "text/plain": [
       "True"
      ]
     },
     "execution_count": 46,
     "metadata": {},
     "output_type": "execute_result"
    }
   ],
   "source": [
    "tables==5 or tables>9"
   ]
  },
  {
   "cell_type": "code",
   "execution_count": 48,
   "id": "d74a83ac-c438-498c-897c-1265cfc20797",
   "metadata": {},
   "outputs": [
    {
     "data": {
      "text/plain": [
       "int"
      ]
     },
     "execution_count": 48,
     "metadata": {},
     "output_type": "execute_result"
    }
   ],
   "source": [
    "type(tables)"
   ]
  },
  {
   "cell_type": "code",
   "execution_count": 51,
   "id": "6f69cc05-5927-45b9-b63e-da9ac21c7350",
   "metadata": {},
   "outputs": [],
   "source": [
    "test = tables==5 or tables>9"
   ]
  },
  {
   "cell_type": "code",
   "execution_count": 53,
   "id": "fb0ae803-2480-40c0-9191-d72f571b1833",
   "metadata": {},
   "outputs": [
    {
     "data": {
      "text/plain": [
       "True"
      ]
     },
     "execution_count": 53,
     "metadata": {},
     "output_type": "execute_result"
    }
   ],
   "source": [
    "test"
   ]
  },
  {
   "cell_type": "code",
   "execution_count": 54,
   "id": "3002289b-0ec4-480b-986b-f43f349bcd3c",
   "metadata": {},
   "outputs": [
    {
     "data": {
      "text/plain": [
       "bool"
      ]
     },
     "execution_count": 54,
     "metadata": {},
     "output_type": "execute_result"
    }
   ],
   "source": [
    "type(test)"
   ]
  },
  {
   "cell_type": "code",
   "execution_count": 55,
   "id": "89fc0aa0-d5b2-4721-91ba-a26c0f865758",
   "metadata": {},
   "outputs": [],
   "source": [
    "first_paragraph=\"Hey mate! I am hungry. Coudl you please pass me a sendwich?\""
   ]
  },
  {
   "cell_type": "code",
   "execution_count": 56,
   "id": "61554911-2599-4dfc-9d56-b20d67e7ada5",
   "metadata": {},
   "outputs": [
    {
     "data": {
      "text/plain": [
       "'Hey mate! I am hungry. Coudl you please pass me a sendwich?'"
      ]
     },
     "execution_count": 56,
     "metadata": {},
     "output_type": "execute_result"
    }
   ],
   "source": [
    "first_paragraph"
   ]
  },
  {
   "cell_type": "code",
   "execution_count": 57,
   "id": "ddc0fe80-0ceb-4dca-b90c-df7446f40e49",
   "metadata": {},
   "outputs": [
    {
     "name": "stdout",
     "output_type": "stream",
     "text": [
      "Hey mate! I am hungry. Coudl you please pass me a sendwich?\n"
     ]
    }
   ],
   "source": [
    "print(first_paragraph)"
   ]
  },
  {
   "cell_type": "code",
   "execution_count": 65,
   "id": "6b9f5000-17d3-48d2-ae17-2eb00c89a408",
   "metadata": {},
   "outputs": [],
   "source": [
    "first_paragraph=\"In the sunny morning, a boy was coming to his friend's room and shouted\\\"Hey mate! I am hungry. Coudl you please pass me a sendwich?\\\".\""
   ]
  },
  {
   "cell_type": "code",
   "execution_count": 66,
   "id": "c81f2808-5210-430f-a125-2b89c84a440c",
   "metadata": {},
   "outputs": [
    {
     "data": {
      "text/plain": [
       "'In the sunny morning, a boy was coming to his friend\\'s room and shouted\"Hey mate! I am hungry. Coudl you please pass me a sendwich?\".'"
      ]
     },
     "execution_count": 66,
     "metadata": {},
     "output_type": "execute_result"
    }
   ],
   "source": [
    "first_paragraph"
   ]
  },
  {
   "cell_type": "code",
   "execution_count": 67,
   "id": "9bec4b53-d9d6-4961-85ae-3a7ce55f9616",
   "metadata": {},
   "outputs": [
    {
     "name": "stdout",
     "output_type": "stream",
     "text": [
      "In the sunny morning, a boy was coming to his friend's room and shouted\"Hey mate! I am hungry. Coudl you please pass me a sendwich?\".\n"
     ]
    }
   ],
   "source": [
    "print(first_paragraph)"
   ]
  },
  {
   "cell_type": "code",
   "execution_count": 68,
   "id": "94df8d06-7dce-4ab1-8130-295ce00348cf",
   "metadata": {},
   "outputs": [],
   "source": [
    "first_paragraph='''In the sunny morning, a boy was coming to his friend's room and shouted\\\"Hey mate! I am hungry. Coudl you please pass me a sendwich?\\\". \\n \"Yes, sure\" he said'''"
   ]
  },
  {
   "cell_type": "code",
   "execution_count": 69,
   "id": "dd326868-41fd-4c6b-b324-2d2603889fcd",
   "metadata": {},
   "outputs": [
    {
     "data": {
      "text/plain": [
       "'In the sunny morning, a boy was coming to his friend\\'s room and shouted\"Hey mate! I am hungry. Coudl you please pass me a sendwich?\". \\n \"Yes, sure\" he said'"
      ]
     },
     "execution_count": 69,
     "metadata": {},
     "output_type": "execute_result"
    }
   ],
   "source": [
    "first_paragraph"
   ]
  },
  {
   "cell_type": "code",
   "execution_count": 70,
   "id": "944cebef-fecb-4752-9e81-979fdff0cd90",
   "metadata": {},
   "outputs": [
    {
     "name": "stdout",
     "output_type": "stream",
     "text": [
      "In the sunny morning, a boy was coming to his friend's room and shouted\"Hey mate! I am hungry. Coudl you please pass me a sendwich?\". \n",
      " \"Yes, sure\" he said\n"
     ]
    }
   ],
   "source": [
    "print(first_paragraph)"
   ]
  },
  {
   "cell_type": "code",
   "execution_count": 71,
   "id": "0abf19c2-fab6-4e10-a353-bb5b1ad6c9a1",
   "metadata": {},
   "outputs": [
    {
     "data": {
      "text/plain": [
       "155"
      ]
     },
     "execution_count": 71,
     "metadata": {},
     "output_type": "execute_result"
    }
   ],
   "source": [
    "len(first_paragraph)"
   ]
  },
  {
   "cell_type": "code",
   "execution_count": 72,
   "id": "a2e4cbb5-aeaf-4ad3-a5c9-2ae90ef931c7",
   "metadata": {},
   "outputs": [],
   "source": [
    "today='saturday'"
   ]
  },
  {
   "cell_type": "code",
   "execution_count": 73,
   "id": "71d36eb6-cb0e-4b4c-919f-182eeb0dec75",
   "metadata": {},
   "outputs": [
    {
     "data": {
      "text/plain": [
       "str"
      ]
     },
     "execution_count": 73,
     "metadata": {},
     "output_type": "execute_result"
    }
   ],
   "source": [
    "type(today)"
   ]
  },
  {
   "cell_type": "code",
   "execution_count": 74,
   "id": "54007963-0aa6-4721-9633-3ec2d40248fc",
   "metadata": {},
   "outputs": [
    {
     "data": {
      "text/plain": [
       "'s'"
      ]
     },
     "execution_count": 74,
     "metadata": {},
     "output_type": "execute_result"
    }
   ],
   "source": [
    "today[0]"
   ]
  },
  {
   "cell_type": "code",
   "execution_count": 76,
   "id": "4cb49a6e-57a5-435d-bf25-fca4581d7ea0",
   "metadata": {},
   "outputs": [
    {
     "data": {
      "text/plain": [
       "'y'"
      ]
     },
     "execution_count": 76,
     "metadata": {},
     "output_type": "execute_result"
    }
   ],
   "source": [
    "today[7]"
   ]
  },
  {
   "cell_type": "code",
   "execution_count": 78,
   "id": "594f7623-899f-4fb6-8fb3-bd2781dbf9f0",
   "metadata": {},
   "outputs": [
    {
     "data": {
      "text/plain": [
       "True"
      ]
     },
     "execution_count": 78,
     "metadata": {},
     "output_type": "execute_result"
    }
   ],
   "source": [
    "'day' in today"
   ]
  },
  {
   "cell_type": "code",
   "execution_count": 80,
   "id": "4d53c645-2408-4b37-8c72-e2e73994bb56",
   "metadata": {},
   "outputs": [
    {
     "data": {
      "text/plain": [
       "False"
      ]
     },
     "execution_count": 80,
     "metadata": {},
     "output_type": "execute_result"
    }
   ],
   "source": [
    "'sun' in today"
   ]
  },
  {
   "cell_type": "code",
   "execution_count": 82,
   "id": "f9a23033-ec43-44bd-bc1f-534410bc963c",
   "metadata": {},
   "outputs": [],
   "source": [
    "full_name='andi mutiah azzahra'"
   ]
  },
  {
   "cell_type": "code",
   "execution_count": 83,
   "id": "70c44783-a13e-4283-97cf-a1d5a0d0cf98",
   "metadata": {},
   "outputs": [],
   "source": [
    "greeting='assalaamualikum'"
   ]
  },
  {
   "cell_type": "code",
   "execution_count": 87,
   "id": "4176d242-1323-4e12-90e9-8cb7c1138b10",
   "metadata": {},
   "outputs": [
    {
     "data": {
      "text/plain": [
       "'assalaamualikumandi mutiah azzahra'"
      ]
     },
     "execution_count": 87,
     "metadata": {},
     "output_type": "execute_result"
    }
   ],
   "source": [
    "greeting+full_name"
   ]
  },
  {
   "cell_type": "code",
   "execution_count": 89,
   "id": "064ef8e3-8985-4cff-9856-bafcdd90c08d",
   "metadata": {},
   "outputs": [
    {
     "data": {
      "text/plain": [
       "'assalaamualikum andi mutiah azzahra:)'"
      ]
     },
     "execution_count": 89,
     "metadata": {},
     "output_type": "execute_result"
    }
   ],
   "source": [
    "greeting+' '+full_name+':)'"
   ]
  },
  {
   "cell_type": "code",
   "execution_count": 90,
   "id": "118061f5-0111-44da-8999-9fc6936e63d2",
   "metadata": {},
   "outputs": [
    {
     "data": {
      "text/plain": [
       "'assalaamualikum'"
      ]
     },
     "execution_count": 90,
     "metadata": {},
     "output_type": "execute_result"
    }
   ],
   "source": [
    "greeting.lower()"
   ]
  },
  {
   "cell_type": "code",
   "execution_count": 91,
   "id": "b88617bd-abc8-4e60-b9bf-9d115f38e1a8",
   "metadata": {},
   "outputs": [
    {
     "data": {
      "text/plain": [
       "'ANDI MUTIAH AZZAHRA'"
      ]
     },
     "execution_count": 91,
     "metadata": {},
     "output_type": "execute_result"
    }
   ],
   "source": [
    "full_name.upper()"
   ]
  },
  {
   "cell_type": "code",
   "execution_count": 92,
   "id": "82374ab7-4874-4224-9c69-6f78fcd0bf02",
   "metadata": {},
   "outputs": [
    {
     "data": {
      "text/plain": [
       "'Andi mutiah azzahra'"
      ]
     },
     "execution_count": 92,
     "metadata": {},
     "output_type": "execute_result"
    }
   ],
   "source": [
    "full_name.capitalize()"
   ]
  },
  {
   "cell_type": "code",
   "execution_count": 104,
   "id": "9afeadaf-acb4-4e14-af5e-b53c4d973ed2",
   "metadata": {},
   "outputs": [
    {
     "name": "stdout",
     "output_type": "stream",
     "text": [
      "If {} notebooks sold for ${} each, they will generate {} profit if the cost of thier production is {}.\n"
     ]
    }
   ],
   "source": [
    "#input variables\n",
    "price_per_product=100\n",
    "product_sold=67\n",
    "cost_of_production=4000\n",
    "\n",
    "#template for output message\n",
    "output_template='If {} notebooks sold for ${} each, they will generate {} profit if the cost of thier production is {}.'\n",
    "\n",
    "print(output_template)"
   ]
  },
  {
   "cell_type": "code",
   "execution_count": 105,
   "id": "7c98ba77-481f-436d-a0b5-86662ee8aa28",
   "metadata": {},
   "outputs": [],
   "source": [
    "#inserting valueas\n",
    "profit=price_per_product*product_sold-cost_of_production"
   ]
  },
  {
   "cell_type": "code",
   "execution_count": 106,
   "id": "0ee28df7-238b-4f37-8856-923d3d85e563",
   "metadata": {},
   "outputs": [
    {
     "data": {
      "text/plain": [
       "2700"
      ]
     },
     "execution_count": 106,
     "metadata": {},
     "output_type": "execute_result"
    }
   ],
   "source": [
    "profit"
   ]
  },
  {
   "cell_type": "code",
   "execution_count": 107,
   "id": "29eba3cb-f321-47ae-8af2-9cfba9eacbd3",
   "metadata": {},
   "outputs": [
    {
     "name": "stdout",
     "output_type": "stream",
     "text": [
      "If 67 notebooks sold for $100 each, they will generate 2700 profit if the cost of thier production is 4000.\n"
     ]
    }
   ],
   "source": [
    "#inserting values\n",
    "output_message=output_template.format(product_sold,price_per_product,profit,cost_of_production)\n",
    "\n",
    "print(output_message)"
   ]
  },
  {
   "cell_type": "code",
   "execution_count": 110,
   "id": "bed52cdb-3746-4c91-91e9-a166a0f7f5fc",
   "metadata": {},
   "outputs": [],
   "source": [
    "color=['red', 'blue', 'yellow', 'black', 'white', 'purple']"
   ]
  },
  {
   "cell_type": "code",
   "execution_count": 111,
   "id": "79341fff-f4ce-478d-a40c-cad6c055f10b",
   "metadata": {},
   "outputs": [
    {
     "data": {
      "text/plain": [
       "list"
      ]
     },
     "execution_count": 111,
     "metadata": {},
     "output_type": "execute_result"
    }
   ],
   "source": [
    "type(color)"
   ]
  },
  {
   "cell_type": "code",
   "execution_count": 113,
   "id": "af132311-accc-4a1b-9515-edfa0931393f",
   "metadata": {},
   "outputs": [
    {
     "data": {
      "text/plain": [
       "['yellow', 'black', 'white']"
      ]
     },
     "execution_count": 113,
     "metadata": {},
     "output_type": "execute_result"
    }
   ],
   "source": [
    "color[2:5]"
   ]
  },
  {
   "cell_type": "code",
   "execution_count": 114,
   "id": "69c08f18-3924-4f91-9264-857fd484c786",
   "metadata": {},
   "outputs": [
    {
     "data": {
      "text/plain": [
       "['yellow', 'black', 'white', 'purple']"
      ]
     },
     "execution_count": 114,
     "metadata": {},
     "output_type": "execute_result"
    }
   ],
   "source": [
    "color[2:10]"
   ]
  },
  {
   "cell_type": "code",
   "execution_count": 115,
   "id": "bac01b15-293c-47c8-b044-0b81f05a5cd0",
   "metadata": {},
   "outputs": [
    {
     "data": {
      "text/plain": [
       "[]"
      ]
     },
     "execution_count": 115,
     "metadata": {},
     "output_type": "execute_result"
    }
   ],
   "source": [
    "color[9:8]"
   ]
  },
  {
   "cell_type": "code",
   "execution_count": 116,
   "id": "a7ce755c-3cf6-4126-8758-f62749cfea43",
   "metadata": {},
   "outputs": [
    {
     "data": {
      "text/plain": [
       "['black', 'white', 'purple']"
      ]
     },
     "execution_count": 116,
     "metadata": {},
     "output_type": "execute_result"
    }
   ],
   "source": [
    "color[3:]"
   ]
  },
  {
   "cell_type": "code",
   "execution_count": 118,
   "id": "11b05ad9-d3a8-45f8-bf2e-dd7dddfc47c7",
   "metadata": {},
   "outputs": [
    {
     "data": {
      "text/plain": [
       "['red', 'blue', 'yellow', 'black', 'white', 'purple']"
      ]
     },
     "execution_count": 118,
     "metadata": {},
     "output_type": "execute_result"
    }
   ],
   "source": [
    "color[:6]"
   ]
  },
  {
   "cell_type": "code",
   "execution_count": 119,
   "id": "c600c27c-cc25-4e16-95a1-2680da78e6e5",
   "metadata": {},
   "outputs": [
    {
     "data": {
      "text/plain": [
       "[]"
      ]
     },
     "execution_count": 119,
     "metadata": {},
     "output_type": "execute_result"
    }
   ],
   "source": [
    "color[-2:-5]"
   ]
  },
  {
   "cell_type": "code",
   "execution_count": 120,
   "id": "a4d9e73e-aa10-4dd8-96a5-55a575f9a580",
   "metadata": {},
   "outputs": [
    {
     "data": {
      "text/plain": [
       "['blue', 'yellow', 'black']"
      ]
     },
     "execution_count": 120,
     "metadata": {},
     "output_type": "execute_result"
    }
   ],
   "source": [
    "color[-5:-2]"
   ]
  },
  {
   "cell_type": "code",
   "execution_count": 121,
   "id": "df8791ce-56ed-4b5b-a3b6-9e2a29c553c1",
   "metadata": {},
   "outputs": [
    {
     "data": {
      "text/plain": [
       "['red', 'blue', 'yellow', 'black', 'white', 'purple']"
      ]
     },
     "execution_count": 121,
     "metadata": {},
     "output_type": "execute_result"
    }
   ],
   "source": [
    "color"
   ]
  },
  {
   "cell_type": "code",
   "execution_count": 122,
   "id": "70df8bc5-f387-4286-8c1d-a4fa6c55b6ca",
   "metadata": {},
   "outputs": [],
   "source": [
    "color[1]='brown'"
   ]
  },
  {
   "cell_type": "code",
   "execution_count": 123,
   "id": "58ea373e-fc17-4eff-82ea-cc642921ed05",
   "metadata": {},
   "outputs": [
    {
     "data": {
      "text/plain": [
       "['red', 'brown', 'yellow', 'black', 'white', 'purple']"
      ]
     },
     "execution_count": 123,
     "metadata": {},
     "output_type": "execute_result"
    }
   ],
   "source": [
    "color"
   ]
  },
  {
   "cell_type": "code",
   "execution_count": 124,
   "id": "73c8f2e9-6192-46dc-bc68-4275543c59f5",
   "metadata": {},
   "outputs": [],
   "source": [
    "color.append('pink')"
   ]
  },
  {
   "cell_type": "code",
   "execution_count": 125,
   "id": "c8da97c1-3fb4-41f3-b07c-af62bc1231b6",
   "metadata": {},
   "outputs": [
    {
     "data": {
      "text/plain": [
       "['red', 'brown', 'yellow', 'black', 'white', 'purple', 'pink']"
      ]
     },
     "execution_count": 125,
     "metadata": {},
     "output_type": "execute_result"
    }
   ],
   "source": [
    "color"
   ]
  },
  {
   "cell_type": "code",
   "execution_count": 127,
   "id": "b721f994-e227-4d4b-95f4-3e7f201d6e8d",
   "metadata": {},
   "outputs": [],
   "source": [
    "color.insert(5, 'orange')"
   ]
  },
  {
   "cell_type": "code",
   "execution_count": 128,
   "id": "904057e2-bd9a-4942-bdf2-09940482b7dc",
   "metadata": {},
   "outputs": [
    {
     "data": {
      "text/plain": [
       "['red', 'brown', 'yellow', 'black', 'white', 'orange', 'purple', 'pink']"
      ]
     },
     "execution_count": 128,
     "metadata": {},
     "output_type": "execute_result"
    }
   ],
   "source": [
    "color"
   ]
  },
  {
   "cell_type": "code",
   "execution_count": 130,
   "id": "262554c9-0247-45ac-9711-776ca61bf2c1",
   "metadata": {},
   "outputs": [],
   "source": [
    "color. remove('pink')"
   ]
  },
  {
   "cell_type": "code",
   "execution_count": 131,
   "id": "41f4438c-eaac-4ce4-9009-8c249dfb1bc0",
   "metadata": {},
   "outputs": [
    {
     "data": {
      "text/plain": [
       "['red', 'brown', 'yellow', 'black', 'white', 'orange', 'purple']"
      ]
     },
     "execution_count": 131,
     "metadata": {},
     "output_type": "execute_result"
    }
   ],
   "source": [
    "color"
   ]
  },
  {
   "cell_type": "code",
   "execution_count": 142,
   "id": "1a9ec24c-4790-470c-b821-9b434f2ef27b",
   "metadata": {},
   "outputs": [
    {
     "data": {
      "text/plain": [
       "['purple', 'orange', 'white', 'black', 'yellow', 'brown', 'red']"
      ]
     },
     "execution_count": 142,
     "metadata": {},
     "output_type": "execute_result"
    }
   ],
   "source": [
    "color[::-1]"
   ]
  },
  {
   "cell_type": "code",
   "execution_count": 143,
   "id": "d774ef63-a759-4bd8-87e5-7ff9dc0697ea",
   "metadata": {},
   "outputs": [],
   "source": [
    "color.append('pink')"
   ]
  },
  {
   "cell_type": "code",
   "execution_count": 144,
   "id": "4c56f58f-3cf0-4e7d-9d6b-c23c1cb9a929",
   "metadata": {},
   "outputs": [
    {
     "data": {
      "text/plain": [
       "['red', 'brown', 'yellow', 'black', 'white', 'orange', 'purple', 'pink']"
      ]
     },
     "execution_count": 144,
     "metadata": {},
     "output_type": "execute_result"
    }
   ],
   "source": [
    "color"
   ]
  },
  {
   "cell_type": "code",
   "execution_count": 145,
   "id": "118bde81-8da8-4212-8328-b35b55f8dffc",
   "metadata": {},
   "outputs": [
    {
     "data": {
      "text/plain": [
       "<function list.sort(*, key=None, reverse=False)>"
      ]
     },
     "execution_count": 145,
     "metadata": {},
     "output_type": "execute_result"
    }
   ],
   "source": [
    "color.sort"
   ]
  },
  {
   "cell_type": "code",
   "execution_count": 1,
   "id": "9cb672ef-2366-41a0-bd82-243f5e9c72b3",
   "metadata": {},
   "outputs": [],
   "source": [
    "students=['muhammad', 'alya', 'ibrahim', 'dawood', 'maryam']"
   ]
  },
  {
   "cell_type": "code",
   "execution_count": 2,
   "id": "2958e4f2-761a-4dbb-858e-0895d00921b2",
   "metadata": {},
   "outputs": [
    {
     "data": {
      "text/plain": [
       "'alya'"
      ]
     },
     "execution_count": 2,
     "metadata": {},
     "output_type": "execute_result"
    }
   ],
   "source": [
    "students[1]"
   ]
  },
  {
   "cell_type": "code",
   "execution_count": 3,
   "id": "29813988-ed2d-4f11-90b0-20b951708ea5",
   "metadata": {},
   "outputs": [
    {
     "name": "stdout",
     "output_type": "stream",
     "text": [
      "alya\n"
     ]
    }
   ],
   "source": [
    "print(students[1])"
   ]
  },
  {
   "cell_type": "code",
   "execution_count": 4,
   "id": "ff6dee18-18dc-4ef7-82e0-df29f98fbac9",
   "metadata": {},
   "outputs": [],
   "source": [
    "students.append('abdurrahman')"
   ]
  },
  {
   "cell_type": "code",
   "execution_count": 5,
   "id": "6e8bcb6e-bcbe-45d1-b33e-6a969e2c703b",
   "metadata": {},
   "outputs": [
    {
     "data": {
      "text/plain": [
       "['muhammad', 'alya', 'ibrahim', 'dawood', 'maryam', 'abdurrahman']"
      ]
     },
     "execution_count": 5,
     "metadata": {},
     "output_type": "execute_result"
    }
   ],
   "source": [
    "students"
   ]
  },
  {
   "cell_type": "code",
   "execution_count": 8,
   "id": "0efd576d-8a29-4f18-9729-d352b58a0f0e",
   "metadata": {},
   "outputs": [],
   "source": [
    "students.remove('alya')"
   ]
  },
  {
   "cell_type": "code",
   "execution_count": 9,
   "id": "edd14946-afd6-45af-a58f-ff5be1260d57",
   "metadata": {},
   "outputs": [
    {
     "data": {
      "text/plain": [
       "['muhammad', 'ibrahim', 'dawood', 'maryam', 'abdurrahman']"
      ]
     },
     "execution_count": 9,
     "metadata": {},
     "output_type": "execute_result"
    }
   ],
   "source": [
    "students"
   ]
  },
  {
   "cell_type": "code",
   "execution_count": 12,
   "id": "364f99d5-c6e4-4d11-8286-6d1b74682006",
   "metadata": {},
   "outputs": [],
   "source": [
    "students.insert(3,'mantap')"
   ]
  },
  {
   "cell_type": "code",
   "execution_count": 13,
   "id": "1e87a087-4dce-4824-a193-8a9a1fea678f",
   "metadata": {},
   "outputs": [
    {
     "data": {
      "text/plain": [
       "['muhammad', 'ibrahim', 'dawood', 'mantap', 'maryam', 'abdurrahman']"
      ]
     },
     "execution_count": 13,
     "metadata": {},
     "output_type": "execute_result"
    }
   ],
   "source": [
    "students"
   ]
  },
  {
   "cell_type": "code",
   "execution_count": null,
   "id": "4c6f5f01-2746-47a3-8788-ac9d0209b3c5",
   "metadata": {},
   "outputs": [],
   "source": []
  },
  {
   "cell_type": "code",
   "execution_count": 14,
   "id": "872bfa4d-0dab-4d2d-88c8-a34b72987e2e",
   "metadata": {},
   "outputs": [],
   "source": [
    "ok=1.99"
   ]
  },
  {
   "cell_type": "code",
   "execution_count": 15,
   "id": "48d78439-dc7a-4047-95f8-c2d07fa5da10",
   "metadata": {},
   "outputs": [
    {
     "data": {
      "text/plain": [
       "1.99"
      ]
     },
     "execution_count": 15,
     "metadata": {},
     "output_type": "execute_result"
    }
   ],
   "source": [
    "ok"
   ]
  },
  {
   "cell_type": "code",
   "execution_count": 16,
   "id": "4ac008e9-15b7-4c9d-93d7-f0d4356ffb8a",
   "metadata": {},
   "outputs": [
    {
     "data": {
      "text/plain": [
       "1"
      ]
     },
     "execution_count": 16,
     "metadata": {},
     "output_type": "execute_result"
    }
   ],
   "source": [
    "int(ok)"
   ]
  },
  {
   "cell_type": "code",
   "execution_count": null,
   "id": "0edd615f-f1b1-47c9-9a05-36e505f6ea45",
   "metadata": {},
   "outputs": [],
   "source": []
  }
 ],
 "metadata": {
  "kernelspec": {
   "display_name": "Python 3 (ipykernel)",
   "language": "python",
   "name": "python3"
  },
  "language_info": {
   "codemirror_mode": {
    "name": "ipython",
    "version": 3
   },
   "file_extension": ".py",
   "mimetype": "text/x-python",
   "name": "python",
   "nbconvert_exporter": "python",
   "pygments_lexer": "ipython3",
   "version": "3.9.12"
  }
 },
 "nbformat": 4,
 "nbformat_minor": 5
}
