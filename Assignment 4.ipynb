{
 "cells": [
  {
   "cell_type": "markdown",
   "id": "f0d9ab1e-d818-4d6b-8adb-16b0172e25f0",
   "metadata": {},
   "source": [
    "#tugas 1\n",
    "\n",
    "Buatlah program menentukan apakah suatu huruf tersebut vokal atau konsonan dalam struktur bahasa Inggris. Kondisi pertama terpenuhi jika diinput huruf vokal a, i, u, e dan o. Kondisi kedua terpenuhi jika diinput huruf y. Dan terakhir adalah jika dua kondisi diatas tidak memenuhi maka akan masuk ke kondisi ketiga. Yakni selain huruf-huruf yang sudah disebutkan diatas maka huruf tersebut adalah konsonan."
   ]
  },
  {
   "cell_type": "code",
   "execution_count": null,
   "id": "fa514fff-003a-4e0b-8191-30488cbade52",
   "metadata": {},
   "outputs": [],
   "source": [
    "#tugas 1\n",
    "\n",
    "huruf=str(input('input huruf'))\n",
    "if huruf == 'a' or huruf == 'i' or huruf == 'u' or huruf == 'e' or huruf == 'o':\n",
    "    print ('vocal')\n",
    "elif huruf == 'y':\n",
    "    print ('vocal')\n",
    "else:\n",
    "    print('konsonan')"
   ]
  },
  {
   "cell_type": "code",
   "execution_count": null,
   "id": "4014d4da-c73c-4456-a264-bf1f866cfd41",
   "metadata": {},
   "outputs": [],
   "source": []
  },
  {
   "cell_type": "markdown",
   "id": "50f9f137-3cbf-48a9-84a3-c528fd03cc6b",
   "metadata": {},
   "source": [
    "#tugas 2\n",
    "\n",
    "Buatlah program untuk menentukan nama ruang geometri berdasarkan jumlah sisi yang diinput. Ada 10 kondisi yang terdapat pada program dibawah ini. \n",
    "\n",
    "sisi 3 = triangle\n",
    "sisi 4 = quadrilateral\n",
    "sisi 5 = pentagon\n",
    "sisi 6 = hexagon\n",
    "sisi 7 = heptagon\n",
    "sisi 8 = ocatagon\n",
    "sisi 9 = nonagon\n",
    "sisi 10 = decagon\n",
    "\n",
    "jika terdapat kesalahan dalam penginputan sisi maka outputnya adalah jumlah sisi yg diinputkan tidak ada dalam databaase."
   ]
  },
  {
   "cell_type": "code",
   "execution_count": null,
   "id": "3a8e11e0-ce63-448f-a2cb-112de7963af7",
   "metadata": {},
   "outputs": [],
   "source": [
    "sisi=int(input('input jumlah sisi'))\n",
    "\n",
    "if sisi == 3:\n",
    "    print ('triangle')\n",
    "elif sisi == 4:\n",
    "    print ('quadrilateral')\n",
    "elif sisi == 5:\n",
    "    print ('pentagon')\n",
    "elif sisi == 6:\n",
    "    print ('hexagon')\n",
    "elif sisi == 7:\n",
    "    print ('heptagon')\n",
    "elif sisi == 8:\n",
    "    print ('octagon')\n",
    "elif sisi == 9:\n",
    "    print ('nonagon')\n",
    "elif sisi == 10:\n",
    "    print ('decagon')\n",
    "else:\n",
    "    print ('jumlah sisi yang diinput tidak ada dalam database')"
   ]
  },
  {
   "cell_type": "code",
   "execution_count": null,
   "id": "e5b900eb-7cc0-4ce5-a89c-9e051eb563d8",
   "metadata": {},
   "outputs": [],
   "source": []
  },
  {
   "cell_type": "markdown",
   "id": "892ff376-26e2-415a-bfb0-ccca9b3be234",
   "metadata": {},
   "source": [
    "#tugas 3\n",
    "\n",
    "Buatlah program untuk mengenal empat musim berdasarkan bulan dan tanggal yang diinput. Disini ada 8 kondisi dimana akan disesuaikan kondisi yang sesuai berdasarkan tanggal dan bulan yang diinput.\n",
    "\n",
    "jika bulan januari atau bulan februari maka musim winter\n",
    "jika bulan maret tanggal < 20 maka musim winter, jika tidak maka musim spring\n",
    "jika bulan april atau bulan mei maka musim spring\n",
    "jika bulan juni tanggal < 21 maka musim spring, jika tidak musim summer\n",
    "jika bulan juli atau agustus maka musim summer\n",
    "jika bulan september tanggal < 22 maka musim summer, jika tidak musim fall\n",
    "jika bulan oktober atau bulan november maka fall\n",
    "jika bulan desember tanggal < 21 maka musim fall, jika tidak musim winter\n",
    "\n",
    "tampilkan hasil tanggal, bulan, musim.\n"
   ]
  },
  {
   "cell_type": "code",
   "execution_count": 4,
   "id": "b29cf4cd-34b1-4260-b9cb-27616cb2fa30",
   "metadata": {},
   "outputs": [
    {
     "name": "stdin",
     "output_type": "stream",
     "text": [
      "masukan tanggal 20\n",
      "masukan bulan januari\n"
     ]
    },
    {
     "name": "stdout",
     "output_type": "stream",
     "text": [
      "winter\n",
      "spring\n"
     ]
    }
   ],
   "source": [
    "#tugas 3\n",
    "\n",
    "tanggal = int(input('masukan tanggal'))\n",
    "bulan = str(input('masukan bulan'))\n",
    "\n",
    "\n",
    "if tanggal < 32 and bulan == ('januari' or bulan == 'februari':\n",
    "    print('winter')\n",
    "elif tanggal < 20 and bulan == 'maret':\n",
    "        print('winter')\n",
    "    else:\n",
    "        print ('spring')\n",
    "elif tanggal < 32 and bulan == 'april' or 'mei':\n",
    "    print('spring')\n",
    "    if tanggal < 21 and bulan == 'juni':\n",
    "        print('spring')\n",
    "    else:\n",
    "        print ('summer')\n",
    "elif tangal < 32 and bulan == 'juli' or bulan == 'agustus':\n",
    "    print('summer')\n",
    "    if tanggal < 22 and bulan == 'september':\n",
    "        print('summer')\n",
    "    else:\n",
    "        print('fall')\n",
    "elif tanggal < 32 and bulan == 'oktober' or bulan == 'november':\n",
    "    print('fall')\n",
    "    if tanggal < 21 and bulan == 'desember':\n",
    "        print('fall')\n",
    "    else:\n",
    "        print('winter')"
   ]
  },
  {
   "cell_type": "code",
   "execution_count": null,
   "id": "02441aa7-c566-4f11-8145-8840c606f879",
   "metadata": {},
   "outputs": [],
   "source": [
    "tanggal = int(input('masukan tanggal'))\n",
    "bulan = str(input('masukan bulan'))\n",
    "\n",
    "\n",
    "if tanggal <= 31 and bulan == 'januari' or bulan == 'februari':\n",
    "    print('winter')\n",
    "elif tanggal < 20 and bulan == 'maret':\n",
    "    print('winter') \n",
    "elif tanggal <= 31 and bulan == 'april' or 'mei':\n",
    "    print('spring')\n",
    "elif tanggal < 21 and bulan == 'juni':\n",
    "    print('spring')\n",
    "elif tangal <= 31 and bulan == 'juli' or bulan == 'agustus':\n",
    "    print('summer')\n",
    "elif tanggal < 22 and bulan == 'september':\n",
    "    print('summer')\n",
    "elif tanggal <= 31 and bulan == 'oktober' or bulan == 'november':\n",
    "    print('fall')\n",
    "elif bulan == 'desember' and tanggal < 21:\n",
    "    print('fall')"
   ]
  },
  {
   "cell_type": "code",
   "execution_count": 3,
   "id": "c476426f-946d-45cf-99f1-5a86722555f3",
   "metadata": {},
   "outputs": [],
   "source": []
  },
  {
   "cell_type": "code",
   "execution_count": null,
   "id": "480c117e-dd94-43ae-aeb2-6be0ad89e346",
   "metadata": {},
   "outputs": [],
   "source": []
  },
  {
   "cell_type": "code",
   "execution_count": null,
   "id": "5914dd2d-a336-4ec7-a314-a25bcaad3bc5",
   "metadata": {},
   "outputs": [],
   "source": []
  }
 ],
 "metadata": {
  "kernelspec": {
   "display_name": "Python 3 (ipykernel)",
   "language": "python",
   "name": "python3"
  },
  "language_info": {
   "codemirror_mode": {
    "name": "ipython",
    "version": 3
   },
   "file_extension": ".py",
   "mimetype": "text/x-python",
   "name": "python",
   "nbconvert_exporter": "python",
   "pygments_lexer": "ipython3",
   "version": "3.9.12"
  }
 },
 "nbformat": 4,
 "nbformat_minor": 5
}
