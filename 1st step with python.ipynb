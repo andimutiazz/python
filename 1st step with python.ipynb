{
 "cells": [
  {
   "cell_type": "markdown",
   "id": "4a2a1ed4-f723-4d5c-b841-ca09c83c3812",
   "metadata": {},
   "source": [
    "##### 5+3"
   ]
  },
  {
   "cell_type": "code",
   "execution_count": 2,
   "id": "81a02692-436a-488f-8e8d-c667fd2a833f",
   "metadata": {},
   "outputs": [
    {
     "data": {
      "text/plain": [
       "-909"
      ]
     },
     "execution_count": 2,
     "metadata": {},
     "output_type": "execute_result"
    }
   ],
   "source": [
    "25-934"
   ]
  },
  {
   "cell_type": "code",
   "execution_count": 3,
   "id": "713c3fb2-c6cc-4748-8658-bd793e0f2564",
   "metadata": {},
   "outputs": [
    {
     "data": {
      "text/plain": [
       "4.6"
      ]
     },
     "execution_count": 3,
     "metadata": {},
     "output_type": "execute_result"
    }
   ],
   "source": [
    "23/5"
   ]
  },
  {
   "cell_type": "code",
   "execution_count": 4,
   "id": "9c3c3824-8b3e-44d2-aa5a-59ed66605998",
   "metadata": {},
   "outputs": [
    {
     "data": {
      "text/plain": [
       "16"
      ]
     },
     "execution_count": 4,
     "metadata": {},
     "output_type": "execute_result"
    }
   ],
   "source": [
    "873//54"
   ]
  },
  {
   "cell_type": "code",
   "execution_count": 5,
   "id": "471015aa-831d-4937-b340-f7f34c1389c7",
   "metadata": {},
   "outputs": [
    {
     "data": {
      "text/plain": [
       "22489"
      ]
     },
     "execution_count": 5,
     "metadata": {},
     "output_type": "execute_result"
    }
   ],
   "source": [
    "43*523"
   ]
  },
  {
   "cell_type": "code",
   "execution_count": 6,
   "id": "d4c0d4b7-ce05-49e8-b62a-614fc0cce2e8",
   "metadata": {},
   "outputs": [
    {
     "data": {
      "text/plain": [
       "2"
      ]
     },
     "execution_count": 6,
     "metadata": {},
     "output_type": "execute_result"
    }
   ],
   "source": [
    "432%5"
   ]
  },
  {
   "cell_type": "code",
   "execution_count": 8,
   "id": "e23477ff-414b-41aa-bdee-d2d6c55e7352",
   "metadata": {},
   "outputs": [
    {
     "data": {
      "text/plain": [
       "1296"
      ]
     },
     "execution_count": 8,
     "metadata": {},
     "output_type": "execute_result"
    }
   ],
   "source": [
    "6**4"
   ]
  },
  {
   "cell_type": "code",
   "execution_count": 9,
   "id": "333c1e42-1c73-4237-851a-1c39853cca8e",
   "metadata": {},
   "outputs": [
    {
     "data": {
      "text/plain": [
       "12.166666666666666"
      ]
     },
     "execution_count": 9,
     "metadata": {},
     "output_type": "execute_result"
    }
   ],
   "source": [
    "((3+7)**2-(32-5))/(2+4)"
   ]
  },
  {
   "cell_type": "code",
   "execution_count": 10,
   "id": "4de4ac97-0ae7-446f-8d69-280a48d809a9",
   "metadata": {},
   "outputs": [],
   "source": [
    "price=4500\n",
    "cost=3000"
   ]
  },
  {
   "cell_type": "code",
   "execution_count": 13,
   "id": "9328781a-5b99-43a2-9e3f-2100f2382838",
   "metadata": {},
   "outputs": [],
   "source": [
    "markup=(price-cost)/cost*1"
   ]
  },
  {
   "cell_type": "code",
   "execution_count": 15,
   "id": "ca9a9639-f590-4a23-94b8-329ce80fd774",
   "metadata": {},
   "outputs": [
    {
     "name": "stdout",
     "output_type": "stream",
     "text": [
      "The markup price is 0.5\n"
     ]
    }
   ],
   "source": [
    "print(\"The markup price is\",markup)"
   ]
  },
  {
   "cell_type": "code",
   "execution_count": 16,
   "id": "bc9b60e1-8ff0-46d9-aa8a-17ab88163949",
   "metadata": {},
   "outputs": [],
   "source": [
    "my_favorite_number=7\n",
    "my_least_favorite_number=5\n",
    "a_neutral_number=2"
   ]
  },
  {
   "cell_type": "code",
   "execution_count": 17,
   "id": "a74186ca-3faf-41b0-b3bc-660cfb28f09d",
   "metadata": {},
   "outputs": [
    {
     "data": {
      "text/plain": [
       "True"
      ]
     },
     "execution_count": 17,
     "metadata": {},
     "output_type": "execute_result"
    }
   ],
   "source": [
    "#equality check - true\n",
    "my_favorite_number==7"
   ]
  },
  {
   "cell_type": "code",
   "execution_count": 18,
   "id": "b4f6294e-ef8e-4f42-96e1-18f25ac33425",
   "metadata": {},
   "outputs": [
    {
     "data": {
      "text/plain": [
       "False"
      ]
     },
     "execution_count": 18,
     "metadata": {},
     "output_type": "execute_result"
    }
   ],
   "source": [
    "#equality check - false\n",
    "my_favorite_number==3"
   ]
  },
  {
   "cell_type": "code",
   "execution_count": 19,
   "id": "5d792798-05e5-4338-a658-de3454096735",
   "metadata": {},
   "outputs": [
    {
     "data": {
      "text/plain": [
       "True"
      ]
     },
     "execution_count": 19,
     "metadata": {},
     "output_type": "execute_result"
    }
   ],
   "source": [
    "#equality check - true\n",
    "my_favorite_number!=9"
   ]
  },
  {
   "cell_type": "code",
   "execution_count": 20,
   "id": "3e005175-0ac3-46f1-af9d-76fd1cd37ee9",
   "metadata": {},
   "outputs": [
    {
     "data": {
      "text/plain": [
       "False"
      ]
     },
     "execution_count": 20,
     "metadata": {},
     "output_type": "execute_result"
    }
   ],
   "source": [
    "#eqiality check - false\n",
    "my_least_favorite_number>=7"
   ]
  },
  {
   "cell_type": "code",
   "execution_count": 21,
   "id": "55cbd785-af6b-423b-ad84-ea5f1f1e822b",
   "metadata": {},
   "outputs": [
    {
     "data": {
      "text/plain": [
       "True"
      ]
     },
     "execution_count": 21,
     "metadata": {},
     "output_type": "execute_result"
    }
   ],
   "source": [
    "#eqiality check - true\n",
    "a_neutral_number<4"
   ]
  },
  {
   "cell_type": "code",
   "execution_count": 24,
   "id": "c47a39b3-92ca-4bb9-96f0-c118f09b3d9b",
   "metadata": {},
   "outputs": [
    {
     "data": {
      "text/plain": [
       "False"
      ]
     },
     "execution_count": 24,
     "metadata": {},
     "output_type": "execute_result"
    }
   ],
   "source": [
    "#eqiality check - false\n",
    "a_neutral_number>2"
   ]
  },
  {
   "cell_type": "code",
   "execution_count": 25,
   "id": "bc9a8d15-df80-4186-b215-9bb79f723312",
   "metadata": {},
   "outputs": [
    {
     "data": {
      "text/plain": [
       "True"
      ]
     },
     "execution_count": 25,
     "metadata": {},
     "output_type": "execute_result"
    }
   ],
   "source": [
    "#eqiality check - true\n",
    "my_least_favorite_number<=5\n"
   ]
  },
  {
   "cell_type": "code",
   "execution_count": 26,
   "id": "f65516f9-796c-4a52-ab00-8a86d716ccd7",
   "metadata": {},
   "outputs": [
    {
     "data": {
      "text/plain": [
       "True"
      ]
     },
     "execution_count": 26,
     "metadata": {},
     "output_type": "execute_result"
    }
   ],
   "source": [
    "my_favorite_number>0 and my_favorite_number<=7"
   ]
  },
  {
   "cell_type": "code",
   "execution_count": 27,
   "id": "8f4ac93e-d964-4542-b7a0-e3760b005bc5",
   "metadata": {},
   "outputs": [
    {
     "data": {
      "text/plain": [
       "False"
      ]
     },
     "execution_count": 27,
     "metadata": {},
     "output_type": "execute_result"
    }
   ],
   "source": [
    "my_favorite_number<0 and my_favourite_number>=5"
   ]
  },
  {
   "cell_type": "code",
   "execution_count": 28,
   "id": "d1332f2f-2f78-4b35-bf7f-32e326e135bf",
   "metadata": {},
   "outputs": [
    {
     "data": {
      "text/plain": [
       "False"
      ]
     },
     "execution_count": 28,
     "metadata": {},
     "output_type": "execute_result"
    }
   ],
   "source": [
    "my_favorite_number>0 and my_favorite_number>7"
   ]
  },
  {
   "cell_type": "code",
   "execution_count": 30,
   "id": "40e08d68-f148-4376-908f-6984240f9dd7",
   "metadata": {},
   "outputs": [
    {
     "data": {
      "text/plain": [
       "False"
      ]
     },
     "execution_count": 30,
     "metadata": {},
     "output_type": "execute_result"
    }
   ],
   "source": [
    "True and False"
   ]
  },
  {
   "cell_type": "code",
   "execution_count": 31,
   "id": "4a1c6365-df63-466c-a9b7-d7a19989c1a6",
   "metadata": {},
   "outputs": [
    {
     "data": {
      "text/plain": [
       "True"
      ]
     },
     "execution_count": 31,
     "metadata": {},
     "output_type": "execute_result"
    }
   ],
   "source": [
    "True and True"
   ]
  },
  {
   "cell_type": "code",
   "execution_count": 32,
   "id": "b1b5b595-d9ab-4cf6-9ccb-e0e1a6e3c01e",
   "metadata": {},
   "outputs": [
    {
     "data": {
      "text/plain": [
       "True"
      ]
     },
     "execution_count": 32,
     "metadata": {},
     "output_type": "execute_result"
    }
   ],
   "source": [
    "a_neutral_number==2 or my_favorite_number<0"
   ]
  },
  {
   "cell_type": "code",
   "execution_count": 33,
   "id": "aaf52fa7-fd96-4d71-a380-cd7493449cd6",
   "metadata": {},
   "outputs": [
    {
     "data": {
      "text/plain": [
       "False"
      ]
     },
     "execution_count": 33,
     "metadata": {},
     "output_type": "execute_result"
    }
   ],
   "source": [
    "a_neutral_number!=2 or my_favorite_number<0"
   ]
  },
  {
   "cell_type": "code",
   "execution_count": 35,
   "id": "0612e24f-6ff1-4a87-8d22-e1c390bc222c",
   "metadata": {},
   "outputs": [
    {
     "data": {
      "text/plain": [
       "True"
      ]
     },
     "execution_count": 35,
     "metadata": {},
     "output_type": "execute_result"
    }
   ],
   "source": [
    "my_favorite_number>0 or True"
   ]
  },
  {
   "cell_type": "code",
   "execution_count": 36,
   "id": "dec556f8-7fd3-4cf9-8a7c-d3e2cb835614",
   "metadata": {},
   "outputs": [
    {
     "data": {
      "text/plain": [
       "False"
      ]
     },
     "execution_count": 36,
     "metadata": {},
     "output_type": "execute_result"
    }
   ],
   "source": [
    "False or False"
   ]
  },
  {
   "cell_type": "code",
   "execution_count": 38,
   "id": "5780e0d6-d546-4a25-b90a-3d08cb427a69",
   "metadata": {},
   "outputs": [
    {
     "data": {
      "text/plain": [
       "True"
      ]
     },
     "execution_count": 38,
     "metadata": {},
     "output_type": "execute_result"
    }
   ],
   "source": [
    "False or True"
   ]
  },
  {
   "cell_type": "code",
   "execution_count": 39,
   "id": "d7d6799f-be45-4d69-a6e6-345df883deca",
   "metadata": {},
   "outputs": [
    {
     "data": {
      "text/plain": [
       "True"
      ]
     },
     "execution_count": 39,
     "metadata": {},
     "output_type": "execute_result"
    }
   ],
   "source": [
    "True or True"
   ]
  },
  {
   "cell_type": "code",
   "execution_count": 49,
   "id": "df484723-5c8d-4020-a3ca-6f1638db7f82",
   "metadata": {},
   "outputs": [],
   "source": [
    "cost=5000\n",
    "people=29\n",
    "ticket_price=200"
   ]
  },
  {
   "cell_type": "code",
   "execution_count": 51,
   "id": "95175092-01d2-4f4e-8874-9d74483e7b4d",
   "metadata": {},
   "outputs": [],
   "source": [
    "profit=people*ticket_price-cost"
   ]
  },
  {
   "cell_type": "code",
   "execution_count": 52,
   "id": "4162ba87-a725-4818-b4d4-af9dc2e27b80",
   "metadata": {},
   "outputs": [
    {
     "data": {
      "text/plain": [
       "800"
      ]
     },
     "execution_count": 52,
     "metadata": {},
     "output_type": "execute_result"
    }
   ],
   "source": [
    "profit"
   ]
  },
  {
   "cell_type": "code",
   "execution_count": 1,
   "id": "9efe52fc-35ec-46c7-a007-f82a4f904d59",
   "metadata": {},
   "outputs": [
    {
     "data": {
      "text/plain": [
       "str"
      ]
     },
     "execution_count": 1,
     "metadata": {},
     "output_type": "execute_result"
    }
   ],
   "source": [
    "type('I am hyngry but I dont reallly want to sleep')"
   ]
  },
  {
   "cell_type": "code",
   "execution_count": 2,
   "id": "758fd358-cbc3-4fa2-8542-7491a701e64a",
   "metadata": {},
   "outputs": [],
   "source": [
    "cinta=5"
   ]
  },
  {
   "cell_type": "code",
   "execution_count": 3,
   "id": "2edd3b4b-bf88-4686-969b-5e971ded0457",
   "metadata": {},
   "outputs": [
    {
     "data": {
      "text/plain": [
       "5"
      ]
     },
     "execution_count": 3,
     "metadata": {},
     "output_type": "execute_result"
    }
   ],
   "source": [
    "cinta"
   ]
  },
  {
   "cell_type": "code",
   "execution_count": null,
   "id": "4de7c433-9db1-4914-ba7e-8d447e50df9f",
   "metadata": {},
   "outputs": [],
   "source": []
  }
 ],
 "metadata": {
  "kernelspec": {
   "display_name": "Python 3 (ipykernel)",
   "language": "python",
   "name": "python3"
  },
  "language_info": {
   "codemirror_mode": {
    "name": "ipython",
    "version": 3
   },
   "file_extension": ".py",
   "mimetype": "text/x-python",
   "name": "python",
   "nbconvert_exporter": "python",
   "pygments_lexer": "ipython3",
   "version": "3.9.12"
  }
 },
 "nbformat": 4,
 "nbformat_minor": 5
}
