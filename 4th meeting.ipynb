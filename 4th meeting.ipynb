{
 "cells": [
  {
   "cell_type": "code",
   "execution_count": 1,
   "id": "29809bdf-3c3d-4b26-b38d-b3b1d6bbf59f",
   "metadata": {},
   "outputs": [
    {
     "name": "stdout",
     "output_type": "stream",
     "text": [
      "mulai belajar jam 1\n"
     ]
    }
   ],
   "source": [
    "def kelas1():\n",
    "    print('mulai belajar jam 1')\n",
    "    \n",
    "kelas1() "
   ]
  },
  {
   "cell_type": "code",
   "execution_count": 3,
   "id": "31282abe-e001-42ee-b752-fa2777b0286c",
   "metadata": {},
   "outputs": [
    {
     "name": "stdout",
     "output_type": "stream",
     "text": [
      "mulai belajar pagi\n"
     ]
    }
   ],
   "source": [
    "def kelas2():\n",
    "    print('mulai belajar pagi')\n",
    "    \n",
    "kelas2()"
   ]
  },
  {
   "cell_type": "code",
   "execution_count": 7,
   "id": "6f93c4be-6ed2-466d-b75c-c45011031248",
   "metadata": {},
   "outputs": [
    {
     "name": "stdout",
     "output_type": "stream",
     "text": [
      "mulai belajar sore\n"
     ]
    }
   ],
   "source": [
    "def kelas3():\n",
    "    print('mulai belajar sore')\n",
    "    \n",
    "kelas3()"
   ]
  },
  {
   "cell_type": "code",
   "execution_count": 9,
   "id": "7dc71265-0520-41bf-beba-014f1012da3e",
   "metadata": {},
   "outputs": [
    {
     "name": "stdout",
     "output_type": "stream",
     "text": [
      "kalolo berani\n",
      "maju lo sini bejo\n",
      "maju lo sini anton\n"
     ]
    }
   ],
   "source": [
    "def anak1():\n",
    "    print('maju lo sini anton')\n",
    "    \n",
    "def anak2():\n",
    "    print('maju lo sini bejo')\n",
    "    anak1()\n",
    "    \n",
    "def utama():\n",
    "    print('kalolo berani')\n",
    "    anak2()\n",
    "\n",
    "utama()"
   ]
  },
  {
   "cell_type": "code",
   "execution_count": 11,
   "id": "46701188-6490-4aba-8613-1b662c0a99a9",
   "metadata": {},
   "outputs": [
    {
     "name": "stdout",
     "output_type": "stream",
     "text": [
      "('ksb', 'sumbawa besar', 'bima', 'dompu') ['sapi', 'ayam', 'udang'] None\n"
     ]
    }
   ],
   "source": [
    "def kabupaten():\n",
    "    sumbawa = ('ksb', 'sumbawa besar', 'bima', 'dompu')\n",
    "    return sumbawa\n",
    "\n",
    "def bakso():\n",
    "    jenis=['sapi','ayam', 'udang']\n",
    "    return jenis\n",
    "    \n",
    "def gaji():\n",
    "    pns=5000+400\n",
    "    return\n",
    "\n",
    "a = kabupaten()\n",
    "b = bakso()\n",
    "c = gaji()\n",
    "\n",
    "print(a,b,c)"
   ]
  },
  {
   "cell_type": "code",
   "execution_count": null,
   "id": "78d14669-b329-4657-84a8-933cbb5c0d4f",
   "metadata": {},
   "outputs": [
    {
     "name": "stdout",
     "output_type": "stream",
     "text": [
      "\n",
      "__________TEKA TEKI__________\n",
      "_______________________________\n"
     ]
    }
   ],
   "source": [
    "def teka_teki():\n",
    "    print(\"\\n__________TEKA TEKI__________\")\n",
    "    print('_______________________________')\n",
    "    input('Tekan enter untuk memulai petunjuk\\n')\n",
    "    step1()\n",
    "    input('tekan enter untuk petunjuk selanjutnya\\n')\n",
    "    step2()\n",
    "    input('\\n')\n",
    "    jawaban()\n",
    "          \n",
    "def step1():\n",
    "    print('aku adalah benda mati untuk membantu manusia bepergian\\n')\n",
    "\n",
    "def step2():\n",
    "    print('aku memiliki dua roda\\n')\n",
    "\n",
    "def jawaban():\n",
    "    a=input('siapakah aku')\n",
    "          \n",
    "    if a == 'motor' or a== 'MOTOR':\n",
    "          print('selamat ! anda menang dan mendapatkan motor baru')\n",
    "    else:\n",
    "          print('anda salah salah ! silahkan coba lagi')\n",
    "          \n",
    "teka_teki()"
   ]
  },
  {
   "cell_type": "code",
   "execution_count": 2,
   "id": "cc597e14-0c77-4829-9854-55a4e1af7461",
   "metadata": {},
   "outputs": [
    {
     "name": "stdout",
     "output_type": "stream",
     "text": [
      "luas kubus:\n",
      "24\n"
     ]
    }
   ],
   "source": [
    "#membuat fungsi bangun ruang\n",
    "\n",
    "def luas_kubus(rusuk):\n",
    "    rumus=6 * rusuk\n",
    "    print ('luas kubus:')\n",
    "    return rumus\n",
    "\n",
    "a= luas_kubus(4)\n",
    "           \n",
    "print(a)"
   ]
  },
  {
   "cell_type": "code",
   "execution_count": 4,
   "id": "23ca2992-cb29-44c0-bae3-b4f55cb1cb44",
   "metadata": {},
   "outputs": [
    {
     "name": "stdout",
     "output_type": "stream",
     "text": [
      "luas balok:\n",
      "214\n"
     ]
    }
   ],
   "source": [
    "def luas_balok(p,l,t):\n",
    "    rumus = 2*((p*l) + (p*t) + (l*t))\n",
    "    print('luas balok:')\n",
    "    return rumus\n",
    "\n",
    "b=luas_balok(5,6,7)\n",
    "print(b)"
   ]
  },
  {
   "cell_type": "code",
   "execution_count": 5,
   "id": "1fa0b80e-592d-43e3-9818-3e78c2b04a2c",
   "metadata": {},
   "outputs": [
    {
     "name": "stdout",
     "output_type": "stream",
     "text": [
      "luas_silinder:\n",
      "289.8\n"
     ]
    }
   ],
   "source": [
    "def luas_silinder(π,r,t):\n",
    "    rumus = 2*π*r*(t+r)\n",
    "    print('luas_silinder:')\n",
    "    return rumus\n",
    "c=luas_silinder(4.14,5,2)\n",
    "print(c)"
   ]
  },
  {
   "cell_type": "code",
   "execution_count": 13,
   "id": "2073dca8-e72d-4694-b1b0-d5a9233ef975",
   "metadata": {},
   "outputs": [
    {
     "name": "stdout",
     "output_type": "stream",
     "text": [
      "Mengecek IBM\n",
      "20.202020202020204\n",
      "ideal\n"
     ]
    }
   ],
   "source": [
    "def IBM(berat_badan,tinggi_badan):\n",
    "    print('Mengecek IBM')\n",
    "    rumus = berat_badan /(tinggi_badan**2)\n",
    "    return rumus\n",
    "\n",
    "a=IBM(55,1.65)\n",
    "\n",
    "print(a)\n",
    "\n",
    "if a < 18.5:\n",
    "    print('kekurangan berat badan')\n",
    "elif a <= 24.9:\n",
    "    print('ideal')\n",
    "elif a <= 29.9:\n",
    "    print ('kelebihan berat badan')\n",
    "elif a >= 30:\n",
    "    print ('obesitas')\n"
   ]
  },
  {
   "cell_type": "code",
   "execution_count": null,
   "id": "89e130f6-19c0-400c-91c1-232019941737",
   "metadata": {},
   "outputs": [],
   "source": []
  }
 ],
 "metadata": {
  "kernelspec": {
   "display_name": "Python 3 (ipykernel)",
   "language": "python",
   "name": "python3"
  },
  "language_info": {
   "codemirror_mode": {
    "name": "ipython",
    "version": 3
   },
   "file_extension": ".py",
   "mimetype": "text/x-python",
   "name": "python",
   "nbconvert_exporter": "python",
   "pygments_lexer": "ipython3",
   "version": "3.9.12"
  }
 },
 "nbformat": 4,
 "nbformat_minor": 5
}
