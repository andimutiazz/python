{
 "cells": [
  {
   "cell_type": "code",
   "execution_count": null,
   "id": "5d029229-70e7-45f6-9cd9-6ef464d61022",
   "metadata": {},
   "outputs": [],
   "source": [
    "a=10\n",
    "b=45\n",
    "c=15\n",
    "if a==b:\n",
    "    print('a is equal to b')"
   ]
  },
  {
   "cell_type": "code",
   "execution_count": null,
   "id": "50e9f1fb-d62e-45de-bd21-5d63f4f33c5f",
   "metadata": {},
   "outputs": [],
   "source": [
    "a=10\n",
    "b=45\n",
    "c=15\n",
    "if a==b:\n",
    "    print('a is equal to b')\n",
    "else:\n",
    "    print('a is not equal to b')\n",
    "    "
   ]
  },
  {
   "cell_type": "code",
   "execution_count": null,
   "id": "5fc9f739-42df-45b8-9404-03628f3cd34c",
   "metadata": {},
   "outputs": [],
   "source": [
    "if a<=c:\n",
    "    print(\"a is less than or equal to c\")\n",
    "else:\n",
    "    print(\"c is less than or equal to a\")"
   ]
  },
  {
   "cell_type": "code",
   "execution_count": null,
   "id": "64be770b-096f-4dd1-aa9f-dc1fdee46edd",
   "metadata": {},
   "outputs": [],
   "source": [
    "if c!=b:\n",
    "    print('a is not equal to b')"
   ]
  },
  {
   "cell_type": "code",
   "execution_count": null,
   "id": "badab344-7471-4053-915b-46e2c057d41a",
   "metadata": {},
   "outputs": [],
   "source": [
    "if b>=c:\n",
    "    print('b is more than or equal to c')\n",
    "else:\n",
    "    print('c is more than or equal to b')"
   ]
  },
  {
   "cell_type": "code",
   "execution_count": 1,
   "id": "38816767-4e69-4b5c-96c2-9422e6d0fd2b",
   "metadata": {},
   "outputs": [
    {
     "name": "stdin",
     "output_type": "stream",
     "text": [
      "Masukan nilai 80\n"
     ]
    },
    {
     "name": "stdout",
     "output_type": "stream",
     "text": [
      "B\n"
     ]
    }
   ],
   "source": [
    "nilai=int(input('Masukan nilai'))\n",
    "\n",
    "if nilai>=90:\n",
    "    print('A')\n",
    "elif nilai>=80:\n",
    "    print('B')\n",
    "elif nilai>=60:\n",
    "    print('C')\n",
    "elif nilai>=40:\n",
    "    print('D')\n",
    "else:\n",
    "    print('E')"
   ]
  },
  {
   "cell_type": "code",
   "execution_count": 3,
   "id": "891c4bac-540f-4c42-98d1-6cff7df9efa3",
   "metadata": {},
   "outputs": [
    {
     "name": "stdout",
     "output_type": "stream",
     "text": [
      "3\n",
      "5\n",
      "7\n",
      "9\n"
     ]
    }
   ],
   "source": [
    "room=3\n",
    "while room<=10:\n",
    "    print(room)\n",
    "    room+=2"
   ]
  },
  {
   "cell_type": "code",
   "execution_count": 27,
   "id": "984a457f-8cb9-4ea6-aa6a-8e5f983d0f7e",
   "metadata": {},
   "outputs": [
    {
     "name": "stdin",
     "output_type": "stream",
     "text": [
      "Masukan gaji per bulan 5000000\n",
      "Masukan status 1\n",
      "Masukan aset yang dimiliki mobil\n"
     ]
    },
    {
     "name": "stdout",
     "output_type": "stream",
     "text": [
      "gaji di atas UMR\n",
      "wajib membayar pajak penghasilan\n",
      "wajib bayar pajak aset\n"
     ]
    }
   ],
   "source": [
    "gaji=int(input('Masukan gaji per bulan'))\n",
    "a=str(input('Masukan status'))\n",
    "b=str(input('Masukan aset yang dimiliki'))\n",
    "            \n",
    "if gaji >= 4500000:\n",
    "    print('gaji di atas UMR')\n",
    "    if a:\n",
    "        print('wajib membayar pajak penghasilan')\n",
    "    else:\n",
    "        print('tidak wajib bayar pajak')\n",
    "    if b=='motor' or b=='mobil'or b=='rumah':\n",
    "        print('wajib bayar pajak aset')\n",
    "    else:\n",
    "        print('tidak wajib bayar pajak aset')\n",
    "else:\n",
    "    print('gaji anda yang diperoleh di bawah UMR')"
   ]
  },
  {
   "cell_type": "code",
   "execution_count": 35,
   "id": "1e5fa34c-5faf-4290-b0ec-74d44d0c0cbe",
   "metadata": {},
   "outputs": [
    {
     "name": "stdin",
     "output_type": "stream",
     "text": [
      "input umur 35\n"
     ]
    },
    {
     "name": "stdout",
     "output_type": "stream",
     "text": [
      "memasuki muda akhir\n"
     ]
    }
   ],
   "source": [
    "umur=int(input('input umur'))\n",
    "if umur >= 12 and umur <=17:\n",
    "    print ('remaja')\n",
    "elif umur >= 18 and umur <=18:\n",
    "    print('peralihan ke dewasa')\n",
    "elif umur >= 22 and umur<=35:\n",
    "    print('memasuki muda akhir')\n",
    "elif umur <12:\n",
    "    print('masih di bawah umur')"
   ]
  },
  {
   "cell_type": "code",
   "execution_count": 36,
   "id": "d5504e49-2c05-41e4-9be0-c0744de99417",
   "metadata": {},
   "outputs": [],
   "source": [
    "fruits=['apple', 'banana', 'fig']"
   ]
  },
  {
   "cell_type": "code",
   "execution_count": 37,
   "id": "7c038dd0-4329-4caa-ba0a-f7220fcf024f",
   "metadata": {},
   "outputs": [
    {
     "data": {
      "text/plain": [
       "['apple', 'banana', 'fig']"
      ]
     },
     "execution_count": 37,
     "metadata": {},
     "output_type": "execute_result"
    }
   ],
   "source": [
    "fruits"
   ]
  },
  {
   "cell_type": "code",
   "execution_count": 41,
   "id": "2c6c8618-27d7-4148-933a-b948a7dea22a",
   "metadata": {},
   "outputs": [],
   "source": [
    "a_number=5"
   ]
  },
  {
   "cell_type": "code",
   "execution_count": 51,
   "id": "7bd9f5d2-9d22-42c5-866d-e7c088fb0749",
   "metadata": {},
   "outputs": [
    {
     "name": "stdout",
     "output_type": "stream",
     "text": [
      "The given number 5 is a lucky number\n"
     ]
    }
   ],
   "source": [
    "if a_number **2 == 25:\n",
    "    print('The given number {} is a lucky number'.format(a_number))\n",
    "else:\n",
    "    print('The given number {} is un nlucky number'.format(a_number))"
   ]
  },
  {
   "cell_type": "code",
   "execution_count": 52,
   "id": "1b83ba93-cad3-4020-8063-2e454f5d7458",
   "metadata": {},
   "outputs": [
    {
     "name": "stdout",
     "output_type": "stream",
     "text": [
      "the given number 5 is ungreat number\n"
     ]
    }
   ],
   "source": [
    "if a_number //5==5:\n",
    "    print('the given number {} is great'.format(a_number))\n",
    "else:\n",
    "    print('the given number {} is not great number'.format(a_number))"
   ]
  },
  {
   "cell_type": "code",
   "execution_count": null,
   "id": "19800d53-7113-4c53-a4ee-1372af6b03fe",
   "metadata": {},
   "outputs": [],
   "source": []
  }
 ],
 "metadata": {
  "kernelspec": {
   "display_name": "Python 3 (ipykernel)",
   "language": "python",
   "name": "python3"
  },
  "language_info": {
   "codemirror_mode": {
    "name": "ipython",
    "version": 3
   },
   "file_extension": ".py",
   "mimetype": "text/x-python",
   "name": "python",
   "nbconvert_exporter": "python",
   "pygments_lexer": "ipython3",
   "version": "3.9.12"
  }
 },
 "nbformat": 4,
 "nbformat_minor": 5
}
